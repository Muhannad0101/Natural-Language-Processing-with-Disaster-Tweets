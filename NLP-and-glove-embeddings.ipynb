{
 "cells": [
  {
   "cell_type": "code",
   "execution_count": 1,
   "id": "62c81344",
   "metadata": {
    "_cell_guid": "b1076dfc-b9ad-4769-8c92-a6c4dae69d19",
    "_uuid": "8f2839f25d086af736a60e9eeb907d3b93b6e0e5",
    "execution": {
     "iopub.execute_input": "2022-05-23T18:22:35.980039Z",
     "iopub.status.busy": "2022-05-23T18:22:35.979271Z",
     "iopub.status.idle": "2022-05-23T18:22:36.005864Z",
     "shell.execute_reply": "2022-05-23T18:22:36.004787Z"
    },
    "papermill": {
     "duration": 0.099692,
     "end_time": "2022-05-23T18:22:36.008439",
     "exception": false,
     "start_time": "2022-05-23T18:22:35.908747",
     "status": "completed"
    },
    "tags": []
   },
   "outputs": [
    {
     "name": "stdout",
     "output_type": "stream",
     "text": [
      "/kaggle/input/nlp-getting-started/sample_submission.csv\n",
      "/kaggle/input/nlp-getting-started/train.csv\n",
      "/kaggle/input/nlp-getting-started/test.csv\n",
      "/kaggle/input/glove-word-embeddings/glove.csv\n",
      "/kaggle/input/glove6b100dtxt/glove.6B.100d.txt\n"
     ]
    }
   ],
   "source": [
    "# This Python 3 environment comes with many helpful analytics libraries installed\n",
    "# It is defined by the kaggle/python Docker image: https://github.com/kaggle/docker-python\n",
    "# For example, here's several helpful packages to load\n",
    "\n",
    "import numpy as np # linear algebra\n",
    "import pandas as pd # data processing, CSV file I/O (e.g. pd.read_csv)\n",
    "\n",
    "# Input data files are available in the read-only \"../input/\" directory\n",
    "# For example, running this (by clicking run or pressing Shift+Enter) will list all files under the input directory\n",
    "\n",
    "import os\n",
    "for dirname, _, filenames in os.walk('/kaggle/input'):\n",
    "    for filename in filenames:\n",
    "        print(os.path.join(dirname, filename))\n",
    "\n",
    "# You can write up to 20GB to the current directory (/kaggle/working/) that gets preserved as output when you create a version using \"Save & Run All\" \n",
    "# You can also write temporary files to /kaggle/temp/, but they won't be saved outside of the current session"
   ]
  },
  {
   "cell_type": "code",
   "execution_count": 2,
   "id": "89c050c4",
   "metadata": {
    "execution": {
     "iopub.execute_input": "2022-05-23T18:22:36.141872Z",
     "iopub.status.busy": "2022-05-23T18:22:36.141045Z",
     "iopub.status.idle": "2022-05-23T18:22:49.394517Z",
     "shell.execute_reply": "2022-05-23T18:22:49.393680Z"
    },
    "papermill": {
     "duration": 13.321817,
     "end_time": "2022-05-23T18:22:49.396913",
     "exception": false,
     "start_time": "2022-05-23T18:22:36.075096",
     "status": "completed"
    },
    "tags": []
   },
   "outputs": [
    {
     "name": "stdout",
     "output_type": "stream",
     "text": [
      "[nltk_data] Downloading package stopwords to /usr/share/nltk_data...\n",
      "[nltk_data]   Package stopwords is already up-to-date!\n",
      "[nltk_data] Downloading package wordnet to /usr/share/nltk_data...\n",
      "[nltk_data]   Package wordnet is already up-to-date!\n"
     ]
    }
   ],
   "source": [
    "from sklearn.model_selection import train_test_split\n",
    "from sklearn.metrics import classification_report, precision_recall_curve\n",
    "\n",
    "import matplotlib.pyplot as plt\n",
    "import seaborn as sns\n",
    "import scipy.stats as stats\n",
    "import re\n",
    "import string\n",
    "import tqdm\n",
    "import nltk\n",
    "nltk.download('stopwords')\n",
    "nltk.download('wordnet')\n",
    "from nltk.corpus import stopwords, wordnet\n",
    "from nltk.stem import WordNetLemmatizer\n",
    "from nltk.tokenize import word_tokenize\n",
    "from nltk.probability import FreqDist\n",
    "from spacy.lang.en import English\n",
    "from spacy.lang.en.stop_words import STOP_WORDS\n",
    "lemma = WordNetLemmatizer()"
   ]
  },
  {
   "cell_type": "code",
   "execution_count": 3,
   "id": "891fe8c4",
   "metadata": {
    "execution": {
     "iopub.execute_input": "2022-05-23T18:22:49.527948Z",
     "iopub.status.busy": "2022-05-23T18:22:49.527693Z",
     "iopub.status.idle": "2022-05-23T18:22:49.593566Z",
     "shell.execute_reply": "2022-05-23T18:22:49.592723Z"
    },
    "papermill": {
     "duration": 0.134292,
     "end_time": "2022-05-23T18:22:49.595974",
     "exception": false,
     "start_time": "2022-05-23T18:22:49.461682",
     "status": "completed"
    },
    "tags": []
   },
   "outputs": [
    {
     "data": {
      "text/html": [
       "<div>\n",
       "<style scoped>\n",
       "    .dataframe tbody tr th:only-of-type {\n",
       "        vertical-align: middle;\n",
       "    }\n",
       "\n",
       "    .dataframe tbody tr th {\n",
       "        vertical-align: top;\n",
       "    }\n",
       "\n",
       "    .dataframe thead th {\n",
       "        text-align: right;\n",
       "    }\n",
       "</style>\n",
       "<table border=\"1\" class=\"dataframe\">\n",
       "  <thead>\n",
       "    <tr style=\"text-align: right;\">\n",
       "      <th></th>\n",
       "      <th>id</th>\n",
       "      <th>keyword</th>\n",
       "      <th>location</th>\n",
       "      <th>text</th>\n",
       "      <th>target</th>\n",
       "    </tr>\n",
       "  </thead>\n",
       "  <tbody>\n",
       "    <tr>\n",
       "      <th>0</th>\n",
       "      <td>1</td>\n",
       "      <td>NaN</td>\n",
       "      <td>NaN</td>\n",
       "      <td>Our Deeds are the Reason of this #earthquake M...</td>\n",
       "      <td>1</td>\n",
       "    </tr>\n",
       "    <tr>\n",
       "      <th>1</th>\n",
       "      <td>4</td>\n",
       "      <td>NaN</td>\n",
       "      <td>NaN</td>\n",
       "      <td>Forest fire near La Ronge Sask. Canada</td>\n",
       "      <td>1</td>\n",
       "    </tr>\n",
       "    <tr>\n",
       "      <th>2</th>\n",
       "      <td>5</td>\n",
       "      <td>NaN</td>\n",
       "      <td>NaN</td>\n",
       "      <td>All residents asked to 'shelter in place' are ...</td>\n",
       "      <td>1</td>\n",
       "    </tr>\n",
       "    <tr>\n",
       "      <th>3</th>\n",
       "      <td>6</td>\n",
       "      <td>NaN</td>\n",
       "      <td>NaN</td>\n",
       "      <td>13,000 people receive #wildfires evacuation or...</td>\n",
       "      <td>1</td>\n",
       "    </tr>\n",
       "    <tr>\n",
       "      <th>4</th>\n",
       "      <td>7</td>\n",
       "      <td>NaN</td>\n",
       "      <td>NaN</td>\n",
       "      <td>Just got sent this photo from Ruby #Alaska as ...</td>\n",
       "      <td>1</td>\n",
       "    </tr>\n",
       "  </tbody>\n",
       "</table>\n",
       "</div>"
      ],
      "text/plain": [
       "   id keyword location                                               text  \\\n",
       "0   1     NaN      NaN  Our Deeds are the Reason of this #earthquake M...   \n",
       "1   4     NaN      NaN             Forest fire near La Ronge Sask. Canada   \n",
       "2   5     NaN      NaN  All residents asked to 'shelter in place' are ...   \n",
       "3   6     NaN      NaN  13,000 people receive #wildfires evacuation or...   \n",
       "4   7     NaN      NaN  Just got sent this photo from Ruby #Alaska as ...   \n",
       "\n",
       "   target  \n",
       "0       1  \n",
       "1       1  \n",
       "2       1  \n",
       "3       1  \n",
       "4       1  "
      ]
     },
     "execution_count": 3,
     "metadata": {},
     "output_type": "execute_result"
    }
   ],
   "source": [
    "df_train = pd.read_csv('/kaggle/input/nlp-getting-started/train.csv')\n",
    "df_train.head()"
   ]
  },
  {
   "cell_type": "code",
   "execution_count": 4,
   "id": "e187e2ac",
   "metadata": {
    "execution": {
     "iopub.execute_input": "2022-05-23T18:22:49.730727Z",
     "iopub.status.busy": "2022-05-23T18:22:49.730147Z",
     "iopub.status.idle": "2022-05-23T18:22:49.763593Z",
     "shell.execute_reply": "2022-05-23T18:22:49.762690Z"
    },
    "papermill": {
     "duration": 0.103988,
     "end_time": "2022-05-23T18:22:49.765755",
     "exception": false,
     "start_time": "2022-05-23T18:22:49.661767",
     "status": "completed"
    },
    "tags": []
   },
   "outputs": [
    {
     "data": {
      "text/html": [
       "<div>\n",
       "<style scoped>\n",
       "    .dataframe tbody tr th:only-of-type {\n",
       "        vertical-align: middle;\n",
       "    }\n",
       "\n",
       "    .dataframe tbody tr th {\n",
       "        vertical-align: top;\n",
       "    }\n",
       "\n",
       "    .dataframe thead th {\n",
       "        text-align: right;\n",
       "    }\n",
       "</style>\n",
       "<table border=\"1\" class=\"dataframe\">\n",
       "  <thead>\n",
       "    <tr style=\"text-align: right;\">\n",
       "      <th></th>\n",
       "      <th>id</th>\n",
       "      <th>keyword</th>\n",
       "      <th>location</th>\n",
       "      <th>text</th>\n",
       "    </tr>\n",
       "  </thead>\n",
       "  <tbody>\n",
       "    <tr>\n",
       "      <th>0</th>\n",
       "      <td>0</td>\n",
       "      <td>NaN</td>\n",
       "      <td>NaN</td>\n",
       "      <td>Just happened a terrible car crash</td>\n",
       "    </tr>\n",
       "    <tr>\n",
       "      <th>1</th>\n",
       "      <td>2</td>\n",
       "      <td>NaN</td>\n",
       "      <td>NaN</td>\n",
       "      <td>Heard about #earthquake is different cities, s...</td>\n",
       "    </tr>\n",
       "    <tr>\n",
       "      <th>2</th>\n",
       "      <td>3</td>\n",
       "      <td>NaN</td>\n",
       "      <td>NaN</td>\n",
       "      <td>there is a forest fire at spot pond, geese are...</td>\n",
       "    </tr>\n",
       "    <tr>\n",
       "      <th>3</th>\n",
       "      <td>9</td>\n",
       "      <td>NaN</td>\n",
       "      <td>NaN</td>\n",
       "      <td>Apocalypse lighting. #Spokane #wildfires</td>\n",
       "    </tr>\n",
       "    <tr>\n",
       "      <th>4</th>\n",
       "      <td>11</td>\n",
       "      <td>NaN</td>\n",
       "      <td>NaN</td>\n",
       "      <td>Typhoon Soudelor kills 28 in China and Taiwan</td>\n",
       "    </tr>\n",
       "  </tbody>\n",
       "</table>\n",
       "</div>"
      ],
      "text/plain": [
       "   id keyword location                                               text\n",
       "0   0     NaN      NaN                 Just happened a terrible car crash\n",
       "1   2     NaN      NaN  Heard about #earthquake is different cities, s...\n",
       "2   3     NaN      NaN  there is a forest fire at spot pond, geese are...\n",
       "3   9     NaN      NaN           Apocalypse lighting. #Spokane #wildfires\n",
       "4  11     NaN      NaN      Typhoon Soudelor kills 28 in China and Taiwan"
      ]
     },
     "execution_count": 4,
     "metadata": {},
     "output_type": "execute_result"
    }
   ],
   "source": [
    "df_test = pd.read_csv('/kaggle/input/nlp-getting-started/test.csv')\n",
    "df_test.head()"
   ]
  },
  {
   "cell_type": "code",
   "execution_count": 5,
   "id": "d0b27c76",
   "metadata": {
    "execution": {
     "iopub.execute_input": "2022-05-23T18:22:49.904144Z",
     "iopub.status.busy": "2022-05-23T18:22:49.903572Z",
     "iopub.status.idle": "2022-05-23T18:22:49.915444Z",
     "shell.execute_reply": "2022-05-23T18:22:49.914553Z"
    },
    "papermill": {
     "duration": 0.084148,
     "end_time": "2022-05-23T18:22:49.917643",
     "exception": false,
     "start_time": "2022-05-23T18:22:49.833495",
     "status": "completed"
    },
    "tags": []
   },
   "outputs": [
    {
     "data": {
      "text/plain": [
       "id             0\n",
       "keyword       61\n",
       "location    2533\n",
       "text           0\n",
       "target         0\n",
       "dtype: int64"
      ]
     },
     "execution_count": 5,
     "metadata": {},
     "output_type": "execute_result"
    }
   ],
   "source": [
    "df_train.isnull().sum()"
   ]
  },
  {
   "cell_type": "code",
   "execution_count": 6,
   "id": "751d42a8",
   "metadata": {
    "execution": {
     "iopub.execute_input": "2022-05-23T18:22:50.053838Z",
     "iopub.status.busy": "2022-05-23T18:22:50.053052Z",
     "iopub.status.idle": "2022-05-23T18:22:50.082296Z",
     "shell.execute_reply": "2022-05-23T18:22:50.081380Z"
    },
    "papermill": {
     "duration": 0.099676,
     "end_time": "2022-05-23T18:22:50.084811",
     "exception": false,
     "start_time": "2022-05-23T18:22:49.985135",
     "status": "completed"
    },
    "tags": []
   },
   "outputs": [
    {
     "name": "stdout",
     "output_type": "stream",
     "text": [
      "<class 'pandas.core.frame.DataFrame'>\n",
      "RangeIndex: 7613 entries, 0 to 7612\n",
      "Data columns (total 5 columns):\n",
      " #   Column    Non-Null Count  Dtype \n",
      "---  ------    --------------  ----- \n",
      " 0   id        7613 non-null   int64 \n",
      " 1   keyword   7552 non-null   object\n",
      " 2   location  5080 non-null   object\n",
      " 3   text      7613 non-null   object\n",
      " 4   target    7613 non-null   int64 \n",
      "dtypes: int64(2), object(3)\n",
      "memory usage: 297.5+ KB\n"
     ]
    }
   ],
   "source": [
    "df_train.info()"
   ]
  },
  {
   "cell_type": "code",
   "execution_count": 7,
   "id": "1df99d93",
   "metadata": {
    "execution": {
     "iopub.execute_input": "2022-05-23T18:22:50.226464Z",
     "iopub.status.busy": "2022-05-23T18:22:50.225892Z",
     "iopub.status.idle": "2022-05-23T18:22:50.254280Z",
     "shell.execute_reply": "2022-05-23T18:22:50.253607Z"
    },
    "papermill": {
     "duration": 0.099718,
     "end_time": "2022-05-23T18:22:50.256629",
     "exception": false,
     "start_time": "2022-05-23T18:22:50.156911",
     "status": "completed"
    },
    "tags": []
   },
   "outputs": [
    {
     "data": {
      "text/html": [
       "<div>\n",
       "<style scoped>\n",
       "    .dataframe tbody tr th:only-of-type {\n",
       "        vertical-align: middle;\n",
       "    }\n",
       "\n",
       "    .dataframe tbody tr th {\n",
       "        vertical-align: top;\n",
       "    }\n",
       "\n",
       "    .dataframe thead th {\n",
       "        text-align: right;\n",
       "    }\n",
       "</style>\n",
       "<table border=\"1\" class=\"dataframe\">\n",
       "  <thead>\n",
       "    <tr style=\"text-align: right;\">\n",
       "      <th></th>\n",
       "      <th>count</th>\n",
       "      <th>mean</th>\n",
       "      <th>std</th>\n",
       "      <th>min</th>\n",
       "      <th>25%</th>\n",
       "      <th>50%</th>\n",
       "      <th>75%</th>\n",
       "      <th>max</th>\n",
       "    </tr>\n",
       "  </thead>\n",
       "  <tbody>\n",
       "    <tr>\n",
       "      <th>id</th>\n",
       "      <td>7613.0</td>\n",
       "      <td>5441.934848</td>\n",
       "      <td>3137.11609</td>\n",
       "      <td>1.0</td>\n",
       "      <td>2734.0</td>\n",
       "      <td>5408.0</td>\n",
       "      <td>8146.0</td>\n",
       "      <td>10873.0</td>\n",
       "    </tr>\n",
       "    <tr>\n",
       "      <th>target</th>\n",
       "      <td>7613.0</td>\n",
       "      <td>0.429660</td>\n",
       "      <td>0.49506</td>\n",
       "      <td>0.0</td>\n",
       "      <td>0.0</td>\n",
       "      <td>0.0</td>\n",
       "      <td>1.0</td>\n",
       "      <td>1.0</td>\n",
       "    </tr>\n",
       "  </tbody>\n",
       "</table>\n",
       "</div>"
      ],
      "text/plain": [
       "         count         mean         std  min     25%     50%     75%      max\n",
       "id      7613.0  5441.934848  3137.11609  1.0  2734.0  5408.0  8146.0  10873.0\n",
       "target  7613.0     0.429660     0.49506  0.0     0.0     0.0     1.0      1.0"
      ]
     },
     "execution_count": 7,
     "metadata": {},
     "output_type": "execute_result"
    }
   ],
   "source": [
    "df_train.describe().T\n"
   ]
  },
  {
   "cell_type": "markdown",
   "id": "29939966",
   "metadata": {
    "papermill": {
     "duration": 0.068112,
     "end_time": "2022-05-23T18:22:50.392723",
     "exception": false,
     "start_time": "2022-05-23T18:22:50.324611",
     "status": "completed"
    },
    "tags": []
   },
   "source": [
    "# Data cleaning and preprocessing\n"
   ]
  },
  {
   "cell_type": "code",
   "execution_count": 8,
   "id": "f0cd2dd7",
   "metadata": {
    "execution": {
     "iopub.execute_input": "2022-05-23T18:22:50.528836Z",
     "iopub.status.busy": "2022-05-23T18:22:50.528554Z",
     "iopub.status.idle": "2022-05-23T18:22:50.533079Z",
     "shell.execute_reply": "2022-05-23T18:22:50.532205Z"
    },
    "papermill": {
     "duration": 0.075009,
     "end_time": "2022-05-23T18:22:50.535146",
     "exception": false,
     "start_time": "2022-05-23T18:22:50.460137",
     "status": "completed"
    },
    "tags": []
   },
   "outputs": [],
   "source": [
    "# Remove URL\n",
    "\n",
    "def remove_url(text):\n",
    "    url = re.compile(r'https?://\\S+|www\\.\\S+')\n",
    "    return url.sub(r'', text)"
   ]
  },
  {
   "cell_type": "code",
   "execution_count": 9,
   "id": "6789652b",
   "metadata": {
    "execution": {
     "iopub.execute_input": "2022-05-23T18:22:50.673229Z",
     "iopub.status.busy": "2022-05-23T18:22:50.672818Z",
     "iopub.status.idle": "2022-05-23T18:22:50.678710Z",
     "shell.execute_reply": "2022-05-23T18:22:50.678031Z"
    },
    "papermill": {
     "duration": 0.077604,
     "end_time": "2022-05-23T18:22:50.680754",
     "exception": false,
     "start_time": "2022-05-23T18:22:50.603150",
     "status": "completed"
    },
    "tags": []
   },
   "outputs": [],
   "source": [
    "# Remove Emoji\n",
    "\n",
    "def remove_emoji(string):\n",
    "    emoji_pattern = re.compile(\"[\"\n",
    "                               u\"\\U0001F600-\\U0001F64F\"  \n",
    "                               u\"\\U0001F300-\\U0001F5FF\"  \n",
    "                               u\"\\U0001F680-\\U0001F6FF\"  \n",
    "                               u\"\\U0001F1E0-\\U0001F1FF\"  \n",
    "                               u\"\\U00002500-\\U00002BEF\"  \n",
    "                               u\"\\U00002702-\\U000027B0\"\n",
    "                               u\"\\U00002702-\\U000027B0\"\n",
    "                               u\"\\U000024C2-\\U0001F251\"\n",
    "                               u\"\\U0001f926-\\U0001f937\"\n",
    "                               u\"\\U00010000-\\U0010ffff\"\n",
    "                               u\"\\u2640-\\u2642\"\n",
    "                               u\"\\u2600-\\u2B55\"\n",
    "                               u\"\\u200d\"\n",
    "                               u\"\\u23cf\"\n",
    "                               u\"\\u23e9\"\n",
    "                               u\"\\u231a\"\n",
    "                               u\"\\ufe0f\"  \n",
    "                               u\"\\u3030\"\n",
    "                               \"]+\", flags=re.UNICODE)\n",
    "    return emoji_pattern.sub(r'', string)"
   ]
  },
  {
   "cell_type": "code",
   "execution_count": 10,
   "id": "a036b684",
   "metadata": {
    "execution": {
     "iopub.execute_input": "2022-05-23T18:22:50.820644Z",
     "iopub.status.busy": "2022-05-23T18:22:50.820200Z",
     "iopub.status.idle": "2022-05-23T18:22:50.824945Z",
     "shell.execute_reply": "2022-05-23T18:22:50.824329Z"
    },
    "papermill": {
     "duration": 0.076239,
     "end_time": "2022-05-23T18:22:50.826921",
     "exception": false,
     "start_time": "2022-05-23T18:22:50.750682",
     "status": "completed"
    },
    "tags": []
   },
   "outputs": [],
   "source": [
    "# Remove HTML\n",
    "\n",
    "def remove_html(text):\n",
    "    html = re.compile(r'<.*?>|&([a-z0-9]+|#[0-9]{1,6}|#x[0-9a-f]{1,6});')\n",
    "    return re.sub(html, '', text)"
   ]
  },
  {
   "cell_type": "code",
   "execution_count": 11,
   "id": "bfbfb31a",
   "metadata": {
    "execution": {
     "iopub.execute_input": "2022-05-23T18:22:50.968990Z",
     "iopub.status.busy": "2022-05-23T18:22:50.968558Z",
     "iopub.status.idle": "2022-05-23T18:22:50.973138Z",
     "shell.execute_reply": "2022-05-23T18:22:50.972465Z"
    },
    "papermill": {
     "duration": 0.079523,
     "end_time": "2022-05-23T18:22:50.975120",
     "exception": false,
     "start_time": "2022-05-23T18:22:50.895597",
     "status": "completed"
    },
    "tags": []
   },
   "outputs": [],
   "source": [
    "# Remove Punct\n",
    "\n",
    "def remove_punctuation(text):\n",
    "    table = str.maketrans('', '', string.punctuation)\n",
    "    return text.translate(table)"
   ]
  },
  {
   "cell_type": "code",
   "execution_count": 12,
   "id": "d9a3f8b0",
   "metadata": {
    "execution": {
     "iopub.execute_input": "2022-05-23T18:22:51.114603Z",
     "iopub.status.busy": "2022-05-23T18:22:51.114246Z",
     "iopub.status.idle": "2022-05-23T18:22:51.118785Z",
     "shell.execute_reply": "2022-05-23T18:22:51.117947Z"
    },
    "papermill": {
     "duration": 0.077364,
     "end_time": "2022-05-23T18:22:51.120875",
     "exception": false,
     "start_time": "2022-05-23T18:22:51.043511",
     "status": "completed"
    },
    "tags": []
   },
   "outputs": [],
   "source": [
    "# Remove Number\n",
    "\n",
    "def remove_number(text):\n",
    "    num = re.compile(r'[-+]?[.\\d]*[\\d]+[:,.\\d]*')\n",
    "    return num.sub(r'', text)"
   ]
  },
  {
   "cell_type": "code",
   "execution_count": 13,
   "id": "b36be027",
   "metadata": {
    "execution": {
     "iopub.execute_input": "2022-05-23T18:22:51.259574Z",
     "iopub.status.busy": "2022-05-23T18:22:51.259254Z",
     "iopub.status.idle": "2022-05-23T18:22:51.572318Z",
     "shell.execute_reply": "2022-05-23T18:22:51.571321Z"
    },
    "papermill": {
     "duration": 0.386067,
     "end_time": "2022-05-23T18:22:51.574896",
     "exception": false,
     "start_time": "2022-05-23T18:22:51.188829",
     "status": "completed"
    },
    "tags": []
   },
   "outputs": [],
   "source": [
    "df_train['clean_text'] = df_train['text'].apply(lambda x: remove_url(x))\n",
    "df_train['clean_text'] = df_train['clean_text'].apply(lambda x: remove_emoji(x))\n",
    "df_train['clean_text'] = df_train['clean_text'].apply(lambda x: remove_html(x))\n",
    "df_train['clean_text'] = df_train['clean_text'].apply(lambda x: remove_punctuation(x))\n",
    "df_train['clean_text'] = df_train['clean_text'].apply(lambda x: remove_number(x))"
   ]
  },
  {
   "cell_type": "markdown",
   "id": "7c6d03be",
   "metadata": {
    "papermill": {
     "duration": 0.067089,
     "end_time": "2022-05-23T18:22:51.710867",
     "exception": false,
     "start_time": "2022-05-23T18:22:51.643778",
     "status": "completed"
    },
    "tags": []
   },
   "source": [
    "# Tokenizing the cleaned texts"
   ]
  },
  {
   "cell_type": "code",
   "execution_count": 14,
   "id": "803b6ee1",
   "metadata": {
    "execution": {
     "iopub.execute_input": "2022-05-23T18:22:51.847118Z",
     "iopub.status.busy": "2022-05-23T18:22:51.846782Z",
     "iopub.status.idle": "2022-05-23T18:22:53.472107Z",
     "shell.execute_reply": "2022-05-23T18:22:53.471223Z"
    },
    "papermill": {
     "duration": 1.698467,
     "end_time": "2022-05-23T18:22:53.476550",
     "exception": false,
     "start_time": "2022-05-23T18:22:51.778083",
     "status": "completed"
    },
    "tags": []
   },
   "outputs": [
    {
     "data": {
      "text/html": [
       "<div>\n",
       "<style scoped>\n",
       "    .dataframe tbody tr th:only-of-type {\n",
       "        vertical-align: middle;\n",
       "    }\n",
       "\n",
       "    .dataframe tbody tr th {\n",
       "        vertical-align: top;\n",
       "    }\n",
       "\n",
       "    .dataframe thead th {\n",
       "        text-align: right;\n",
       "    }\n",
       "</style>\n",
       "<table border=\"1\" class=\"dataframe\">\n",
       "  <thead>\n",
       "    <tr style=\"text-align: right;\">\n",
       "      <th></th>\n",
       "      <th>id</th>\n",
       "      <th>keyword</th>\n",
       "      <th>location</th>\n",
       "      <th>text</th>\n",
       "      <th>target</th>\n",
       "      <th>clean_text</th>\n",
       "      <th>tokenized</th>\n",
       "    </tr>\n",
       "  </thead>\n",
       "  <tbody>\n",
       "    <tr>\n",
       "      <th>0</th>\n",
       "      <td>1</td>\n",
       "      <td>NaN</td>\n",
       "      <td>NaN</td>\n",
       "      <td>Our Deeds are the Reason of this #earthquake M...</td>\n",
       "      <td>1</td>\n",
       "      <td>Our Deeds are the Reason of this earthquake Ma...</td>\n",
       "      <td>[Our, Deeds, are, the, Reason, of, this, earth...</td>\n",
       "    </tr>\n",
       "    <tr>\n",
       "      <th>1</th>\n",
       "      <td>4</td>\n",
       "      <td>NaN</td>\n",
       "      <td>NaN</td>\n",
       "      <td>Forest fire near La Ronge Sask. Canada</td>\n",
       "      <td>1</td>\n",
       "      <td>Forest fire near La Ronge Sask Canada</td>\n",
       "      <td>[Forest, fire, near, La, Ronge, Sask, Canada]</td>\n",
       "    </tr>\n",
       "    <tr>\n",
       "      <th>2</th>\n",
       "      <td>5</td>\n",
       "      <td>NaN</td>\n",
       "      <td>NaN</td>\n",
       "      <td>All residents asked to 'shelter in place' are ...</td>\n",
       "      <td>1</td>\n",
       "      <td>All residents asked to shelter in place are be...</td>\n",
       "      <td>[All, residents, asked, to, shelter, in, place...</td>\n",
       "    </tr>\n",
       "    <tr>\n",
       "      <th>3</th>\n",
       "      <td>6</td>\n",
       "      <td>NaN</td>\n",
       "      <td>NaN</td>\n",
       "      <td>13,000 people receive #wildfires evacuation or...</td>\n",
       "      <td>1</td>\n",
       "      <td>people receive wildfires evacuation orders in...</td>\n",
       "      <td>[people, receive, wildfires, evacuation, order...</td>\n",
       "    </tr>\n",
       "    <tr>\n",
       "      <th>4</th>\n",
       "      <td>7</td>\n",
       "      <td>NaN</td>\n",
       "      <td>NaN</td>\n",
       "      <td>Just got sent this photo from Ruby #Alaska as ...</td>\n",
       "      <td>1</td>\n",
       "      <td>Just got sent this photo from Ruby Alaska as s...</td>\n",
       "      <td>[Just, got, sent, this, photo, from, Ruby, Ala...</td>\n",
       "    </tr>\n",
       "  </tbody>\n",
       "</table>\n",
       "</div>"
      ],
      "text/plain": [
       "   id keyword location                                               text  \\\n",
       "0   1     NaN      NaN  Our Deeds are the Reason of this #earthquake M...   \n",
       "1   4     NaN      NaN             Forest fire near La Ronge Sask. Canada   \n",
       "2   5     NaN      NaN  All residents asked to 'shelter in place' are ...   \n",
       "3   6     NaN      NaN  13,000 people receive #wildfires evacuation or...   \n",
       "4   7     NaN      NaN  Just got sent this photo from Ruby #Alaska as ...   \n",
       "\n",
       "   target                                         clean_text  \\\n",
       "0       1  Our Deeds are the Reason of this earthquake Ma...   \n",
       "1       1              Forest fire near La Ronge Sask Canada   \n",
       "2       1  All residents asked to shelter in place are be...   \n",
       "3       1   people receive wildfires evacuation orders in...   \n",
       "4       1  Just got sent this photo from Ruby Alaska as s...   \n",
       "\n",
       "                                           tokenized  \n",
       "0  [Our, Deeds, are, the, Reason, of, this, earth...  \n",
       "1      [Forest, fire, near, La, Ronge, Sask, Canada]  \n",
       "2  [All, residents, asked, to, shelter, in, place...  \n",
       "3  [people, receive, wildfires, evacuation, order...  \n",
       "4  [Just, got, sent, this, photo, from, Ruby, Ala...  "
      ]
     },
     "execution_count": 14,
     "metadata": {},
     "output_type": "execute_result"
    }
   ],
   "source": [
    "df_train['tokenized'] = df_train['clean_text'].apply(word_tokenize)\n",
    "df_train.head()"
   ]
  },
  {
   "cell_type": "code",
   "execution_count": 15,
   "id": "50aeb0ac",
   "metadata": {
    "execution": {
     "iopub.execute_input": "2022-05-23T18:22:53.614505Z",
     "iopub.status.busy": "2022-05-23T18:22:53.614196Z",
     "iopub.status.idle": "2022-05-23T18:22:53.618268Z",
     "shell.execute_reply": "2022-05-23T18:22:53.617306Z"
    },
    "papermill": {
     "duration": 0.075624,
     "end_time": "2022-05-23T18:22:53.620427",
     "exception": false,
     "start_time": "2022-05-23T18:22:53.544803",
     "status": "completed"
    },
    "tags": []
   },
   "outputs": [],
   "source": [
    "#df_train['lower'] = df_train['clean_text'].apply(lambda x: [word.lower() for word in x])\n",
    "#df_train['no_stopwords'] = df_train['lower'].apply(\n",
    "#                            lambda x: [word for word in x if word not in set(nltk.corpus.stopwords.words('english'))])"
   ]
  },
  {
   "cell_type": "code",
   "execution_count": 16,
   "id": "5dd7e2b4",
   "metadata": {
    "execution": {
     "iopub.execute_input": "2022-05-23T18:22:53.758384Z",
     "iopub.status.busy": "2022-05-23T18:22:53.757795Z",
     "iopub.status.idle": "2022-05-23T18:22:53.760936Z",
     "shell.execute_reply": "2022-05-23T18:22:53.760275Z"
    },
    "papermill": {
     "duration": 0.074405,
     "end_time": "2022-05-23T18:22:53.762888",
     "exception": false,
     "start_time": "2022-05-23T18:22:53.688483",
     "status": "completed"
    },
    "tags": []
   },
   "outputs": [],
   "source": [
    "#df_train['no_stopwords'] = [' '.join(map(str, l)) for l in df_train['no_stopwords']]\n",
    "#df_train.head()"
   ]
  },
  {
   "cell_type": "markdown",
   "id": "66ba549e",
   "metadata": {
    "papermill": {
     "duration": 0.067609,
     "end_time": "2022-05-23T18:22:53.898826",
     "exception": false,
     "start_time": "2022-05-23T18:22:53.831217",
     "status": "completed"
    },
    "tags": []
   },
   "source": [
    "# Exploratory Data Analysis\n"
   ]
  },
  {
   "cell_type": "code",
   "execution_count": 17,
   "id": "9dc8f008",
   "metadata": {
    "execution": {
     "iopub.execute_input": "2022-05-23T18:22:54.039702Z",
     "iopub.status.busy": "2022-05-23T18:22:54.038946Z",
     "iopub.status.idle": "2022-05-23T18:22:54.042659Z",
     "shell.execute_reply": "2022-05-23T18:22:54.042052Z"
    },
    "papermill": {
     "duration": 0.078203,
     "end_time": "2022-05-23T18:22:54.044589",
     "exception": false,
     "start_time": "2022-05-23T18:22:53.966386",
     "status": "completed"
    },
    "tags": []
   },
   "outputs": [],
   "source": [
    "#fig, axes = plt.subplots(ncols=2, nrows=1, figsize=(18, 6), dpi=100)\n",
    "\n",
    "#sns.countplot(df_train['target'], ax=axes[0])\n",
    "#axes[1].pie(df_train['target'].value_counts(),\n",
    "#             labels=['Not Disaster', 'Disaster'],\n",
    "#             autopct='%1.2f%%',\n",
    "#             startangle=60)\n",
    "           \n",
    "#fig.suptitle('Distribution of the Tweets', fontsize=24)\n",
    "#plt.show()"
   ]
  },
  {
   "cell_type": "markdown",
   "id": "54fa3c29",
   "metadata": {
    "papermill": {
     "duration": 0.067762,
     "end_time": "2022-05-23T18:22:54.181642",
     "exception": false,
     "start_time": "2022-05-23T18:22:54.113880",
     "status": "completed"
    },
    "tags": []
   },
   "source": [
    "## Average number of words in a processed tweet\n"
   ]
  },
  {
   "cell_type": "code",
   "execution_count": 18,
   "id": "cfd57e72",
   "metadata": {
    "execution": {
     "iopub.execute_input": "2022-05-23T18:22:54.319498Z",
     "iopub.status.busy": "2022-05-23T18:22:54.318960Z",
     "iopub.status.idle": "2022-05-23T18:22:54.756769Z",
     "shell.execute_reply": "2022-05-23T18:22:54.755596Z"
    },
    "papermill": {
     "duration": 0.509752,
     "end_time": "2022-05-23T18:22:54.759172",
     "exception": false,
     "start_time": "2022-05-23T18:22:54.249420",
     "status": "completed"
    },
    "tags": []
   },
   "outputs": [
    {
     "name": "stderr",
     "output_type": "stream",
     "text": [
      "/opt/conda/lib/python3.7/site-packages/seaborn/distributions.py:2619: FutureWarning: `distplot` is a deprecated function and will be removed in a future version. Please adapt your code to use either `displot` (a figure-level function with similar flexibility) or `histplot` (an axes-level function for histograms).\n",
      "  warnings.warn(msg, FutureWarning)\n"
     ]
    },
    {
     "data": {
      "text/plain": [
       "Text(0.5, 1.0, 'disaster tweets')"
      ]
     },
     "execution_count": 18,
     "metadata": {},
     "output_type": "execute_result"
    },
    {
     "data": {
      "image/png": "[encoded data removed]",
      "text/plain": [
       "<Figure size 720x360 with 1 Axes>"
      ]
     },
     "metadata": {
      "needs_background": "light"
     },
     "output_type": "display_data"
    }
   ],
   "source": [
    "fig, ax1 = plt.subplots(figsize=(10,5))\n",
    "\n",
    "word = df_train[df_train['target']==1]['text'].str.split().apply(lambda x : [len(i) for i in x])\n",
    "sns.distplot(word.map(lambda x: np.mean(x)),ax=ax1,color='blue')\n",
    "ax1.set_title('disaster tweets')"
   ]
  },
  {
   "cell_type": "code",
   "execution_count": 19,
   "id": "d5859545",
   "metadata": {
    "execution": {
     "iopub.execute_input": "2022-05-23T18:22:54.901860Z",
     "iopub.status.busy": "2022-05-23T18:22:54.901565Z",
     "iopub.status.idle": "2022-05-23T18:22:55.335329Z",
     "shell.execute_reply": "2022-05-23T18:22:55.334392Z"
    },
    "papermill": {
     "duration": 0.508497,
     "end_time": "2022-05-23T18:22:55.338049",
     "exception": false,
     "start_time": "2022-05-23T18:22:54.829552",
     "status": "completed"
    },
    "tags": []
   },
   "outputs": [
    {
     "name": "stderr",
     "output_type": "stream",
     "text": [
      "/opt/conda/lib/python3.7/site-packages/seaborn/distributions.py:2619: FutureWarning: `distplot` is a deprecated function and will be removed in a future version. Please adapt your code to use either `displot` (a figure-level function with similar flexibility) or `histplot` (an axes-level function for histograms).\n",
      "  warnings.warn(msg, FutureWarning)\n"
     ]
    },
    {
     "data": {
      "text/plain": [
       "Text(0.5, 1.0, 'Non disaster tweets')"
      ]
     },
     "execution_count": 19,
     "metadata": {},
     "output_type": "execute_result"
    },
    {
     "data": {
      "image/png": "[encoded data removed]",
      "text/plain": [
       "<Figure size 720x360 with 1 Axes>"
      ]
     },
     "metadata": {
      "needs_background": "light"
     },
     "output_type": "display_data"
    }
   ],
   "source": [
    "fig, ax2 = plt.subplots(figsize=(10,5))\n",
    "\n",
    "word = df_train[df_train['target']==0]['text'].str.split().apply(lambda x: [len(i) for i in x])\n",
    "sns.distplot(word.map(lambda x: np.mean(x)), ax=ax2, color='orange')\n",
    "ax2.set_title('Non disaster tweets')"
   ]
  },
  {
   "cell_type": "markdown",
   "id": "6c3c272d",
   "metadata": {
    "papermill": {
     "duration": 0.076287,
     "end_time": "2022-05-23T18:22:55.494908",
     "exception": false,
     "start_time": "2022-05-23T18:22:55.418621",
     "status": "completed"
    },
    "tags": []
   },
   "source": [
    "# Load pretrained GloVe embedding\n",
    "GloVe word embeddings are generated from a huge text corpus like Wikipedia and are able to find a meaningful vector representation for each word in the news data. This allows us to use Transfer learning and train further over our data. In this project I have used the 100-dimensional `max_sequence_length` data. When used with a BiLSTM, the results seem to be better than Bag-of-Words and Tf-Idf vectorization methods."
   ]
  },
  {
   "cell_type": "code",
   "execution_count": 20,
   "id": "1b017337",
   "metadata": {
    "execution": {
     "iopub.execute_input": "2022-05-23T18:22:55.659428Z",
     "iopub.status.busy": "2022-05-23T18:22:55.658607Z",
     "iopub.status.idle": "2022-05-23T18:22:56.824243Z",
     "shell.execute_reply": "2022-05-23T18:22:56.823240Z"
    },
    "papermill": {
     "duration": 1.24108,
     "end_time": "2022-05-23T18:22:56.826629",
     "exception": false,
     "start_time": "2022-05-23T18:22:55.585549",
     "status": "completed"
    },
    "tags": []
   },
   "outputs": [],
   "source": [
    "import tensorflow as tf\n",
    "import numpy as np\n",
    "import matplotlib.pyplot as plt\n",
    "import os\n",
    "\n",
    "from tensorflow.keras.layers import Embedding\n",
    "from tensorflow.keras.preprocessing.text import Tokenizer\n",
    "from tensorflow.keras.preprocessing.sequence import pad_sequences"
   ]
  },
  {
   "cell_type": "code",
   "execution_count": 21,
   "id": "0e09bd0f",
   "metadata": {
    "execution": {
     "iopub.execute_input": "2022-05-23T18:22:56.971359Z",
     "iopub.status.busy": "2022-05-23T18:22:56.971052Z",
     "iopub.status.idle": "2022-05-23T18:22:56.975452Z",
     "shell.execute_reply": "2022-05-23T18:22:56.974537Z"
    },
    "papermill": {
     "duration": 0.079351,
     "end_time": "2022-05-23T18:22:56.977637",
     "exception": false,
     "start_time": "2022-05-23T18:22:56.898286",
     "status": "completed"
    },
    "tags": []
   },
   "outputs": [],
   "source": [
    "embedding_dim = 100\n",
    "max_sequence_length = 100\n",
    "max_nb_words = 64"
   ]
  },
  {
   "cell_type": "code",
   "execution_count": 22,
   "id": "7856b565",
   "metadata": {
    "execution": {
     "iopub.execute_input": "2022-05-23T18:22:57.126175Z",
     "iopub.status.busy": "2022-05-23T18:22:57.125868Z",
     "iopub.status.idle": "2022-05-23T18:23:10.568290Z",
     "shell.execute_reply": "2022-05-23T18:23:10.567374Z"
    },
    "papermill": {
     "duration": 13.518406,
     "end_time": "2022-05-23T18:23:10.570815",
     "exception": false,
     "start_time": "2022-05-23T18:22:57.052409",
     "status": "completed"
    },
    "tags": []
   },
   "outputs": [],
   "source": [
    "embeddings_index = {}\n",
    "f = open('/kaggle/input/glove6b100dtxt/glove.6B.100d.txt', encoding='utf-8')\n",
    "\n",
    "for line in f:\n",
    "    values = line.split()\n",
    "    word = values[0]\n",
    "    coefs = np.asarray(values[1:], dtype='float32')\n",
    "    embeddings_index[word] = coefs\n",
    "f.close()"
   ]
  },
  {
   "cell_type": "code",
   "execution_count": 23,
   "id": "21cc713b",
   "metadata": {
    "execution": {
     "iopub.execute_input": "2022-05-23T18:23:10.716571Z",
     "iopub.status.busy": "2022-05-23T18:23:10.715531Z",
     "iopub.status.idle": "2022-05-23T18:23:10.722650Z",
     "shell.execute_reply": "2022-05-23T18:23:10.721618Z"
    },
    "papermill": {
     "duration": 0.08217,
     "end_time": "2022-05-23T18:23:10.725267",
     "exception": false,
     "start_time": "2022-05-23T18:23:10.643097",
     "status": "completed"
    },
    "tags": []
   },
   "outputs": [
    {
     "name": "stdout",
     "output_type": "stream",
     "text": [
      "Indexing word vectors.\n",
      "Found 400000 word vectors.\n",
      "d_model: %s (100,)\n"
     ]
    }
   ],
   "source": [
    "print('Indexing word vectors.')\n",
    "print('Found %s word vectors.' % len(embeddings_index))\n",
    "print('d_model: %s', embeddings_index['hi'].shape)"
   ]
  },
  {
   "cell_type": "code",
   "execution_count": 24,
   "id": "7ee33f83",
   "metadata": {
    "execution": {
     "iopub.execute_input": "2022-05-23T18:23:10.873097Z",
     "iopub.status.busy": "2022-05-23T18:23:10.872806Z",
     "iopub.status.idle": "2022-05-23T18:23:10.882932Z",
     "shell.execute_reply": "2022-05-23T18:23:10.882022Z"
    },
    "papermill": {
     "duration": 0.088994,
     "end_time": "2022-05-23T18:23:10.885390",
     "exception": false,
     "start_time": "2022-05-23T18:23:10.796396",
     "status": "completed"
    },
    "tags": []
   },
   "outputs": [],
   "source": [
    "from tqdm import tqdm\n",
    "stop=set(stopwords.words('english'))\n",
    "\n",
    "def create_corpus(train):\n",
    "    data = []\n",
    "    for tweet in tqdm(df_train['text']):\n",
    "        words = [word.lower() for word in word_tokenize(tweet) \n",
    "                 if((word.isalpha()==1) & \n",
    "                    (word not in stop))]\n",
    "        \n",
    "        data.append(words)\n",
    "    return data"
   ]
  },
  {
   "cell_type": "code",
   "execution_count": 25,
   "id": "d21a3999",
   "metadata": {
    "execution": {
     "iopub.execute_input": "2022-05-23T18:23:11.037670Z",
     "iopub.status.busy": "2022-05-23T18:23:11.036747Z",
     "iopub.status.idle": "2022-05-23T18:23:13.622142Z",
     "shell.execute_reply": "2022-05-23T18:23:13.621163Z"
    },
    "papermill": {
     "duration": 2.662409,
     "end_time": "2022-05-23T18:23:13.624459",
     "exception": false,
     "start_time": "2022-05-23T18:23:10.962050",
     "status": "completed"
    },
    "tags": []
   },
   "outputs": [
    {
     "name": "stderr",
     "output_type": "stream",
     "text": [
      "100%|██████████| 7613/7613 [00:02<00:00, 2956.44it/s]\n"
     ]
    }
   ],
   "source": [
    "data = create_corpus(df_train)"
   ]
  },
  {
   "cell_type": "code",
   "execution_count": 26,
   "id": "631626f2",
   "metadata": {
    "execution": {
     "iopub.execute_input": "2022-05-23T18:23:13.793118Z",
     "iopub.status.busy": "2022-05-23T18:23:13.792845Z",
     "iopub.status.idle": "2022-05-23T18:23:13.979539Z",
     "shell.execute_reply": "2022-05-23T18:23:13.978718Z"
    },
    "papermill": {
     "duration": 0.273489,
     "end_time": "2022-05-23T18:23:13.981932",
     "exception": false,
     "start_time": "2022-05-23T18:23:13.708443",
     "status": "completed"
    },
    "tags": []
   },
   "outputs": [],
   "source": [
    "tokenizer_obj = Tokenizer()\n",
    "tokenizer_obj.fit_on_texts(data)\n",
    "sequences = tokenizer_obj.texts_to_sequences(data)\n",
    "word_index = tokenizer_obj.word_index\n",
    "\n",
    "tweet_pad = pad_sequences(sequences, maxlen=max_sequence_length, truncating='post', padding='post')\n",
    "word_index = tokenizer_obj.word_index"
   ]
  },
  {
   "cell_type": "code",
   "execution_count": 27,
   "id": "61ce6c02",
   "metadata": {
    "execution": {
     "iopub.execute_input": "2022-05-23T18:23:14.151668Z",
     "iopub.status.busy": "2022-05-23T18:23:14.151402Z",
     "iopub.status.idle": "2022-05-23T18:23:14.157463Z",
     "shell.execute_reply": "2022-05-23T18:23:14.156830Z"
    },
    "papermill": {
     "duration": 0.093073,
     "end_time": "2022-05-23T18:23:14.160382",
     "exception": false,
     "start_time": "2022-05-23T18:23:14.067309",
     "status": "completed"
    },
    "tags": []
   },
   "outputs": [
    {
     "name": "stdout",
     "output_type": "stream",
     "text": [
      "Found 15013 unique tokens.\n",
      "(7613, 100)\n",
      "[[ 594 4160  737 ...    0    0    0]\n",
      " [ 117    8  161 ...    0    0    0]\n",
      " [ 118 1574 1456 ...    0    0    0]\n",
      " ...\n",
      " [1444  290  504 ...    0    0    0]\n",
      " [  20 1004  256 ...    0    0    0]\n",
      " [   3  138   85 ...    0    0    0]]\n"
     ]
    }
   ],
   "source": [
    "print('Found %s unique tokens.' % len(word_index))\n",
    "print(tweet_pad.shape)\n",
    "print(tweet_pad)"
   ]
  },
  {
   "cell_type": "code",
   "execution_count": 28,
   "id": "b2245da6",
   "metadata": {
    "execution": {
     "iopub.execute_input": "2022-05-23T18:23:14.330866Z",
     "iopub.status.busy": "2022-05-23T18:23:14.330444Z",
     "iopub.status.idle": "2022-05-23T18:23:14.333930Z",
     "shell.execute_reply": "2022-05-23T18:23:14.333093Z"
    },
    "papermill": {
     "duration": 0.090063,
     "end_time": "2022-05-23T18:23:14.335918",
     "exception": false,
     "start_time": "2022-05-23T18:23:14.245855",
     "status": "completed"
    },
    "tags": []
   },
   "outputs": [],
   "source": [
    "num_words = len(word_index) + 1"
   ]
  },
  {
   "cell_type": "markdown",
   "id": "e49939ed",
   "metadata": {
    "papermill": {
     "duration": 0.08412,
     "end_time": "2022-05-23T18:23:14.504764",
     "exception": false,
     "start_time": "2022-05-23T18:23:14.420644",
     "status": "completed"
    },
    "tags": []
   },
   "source": [
    "# LSTM model"
   ]
  },
  {
   "cell_type": "code",
   "execution_count": 29,
   "id": "650548ee",
   "metadata": {
    "execution": {
     "iopub.execute_input": "2022-05-23T18:23:14.671801Z",
     "iopub.status.busy": "2022-05-23T18:23:14.671380Z",
     "iopub.status.idle": "2022-05-23T18:23:14.678036Z",
     "shell.execute_reply": "2022-05-23T18:23:14.677278Z"
    },
    "papermill": {
     "duration": 0.092927,
     "end_time": "2022-05-23T18:23:14.680204",
     "exception": false,
     "start_time": "2022-05-23T18:23:14.587277",
     "status": "completed"
    },
    "tags": []
   },
   "outputs": [],
   "source": [
    "from keras.preprocessing.text import Tokenizer\n",
    "from keras.preprocessing.sequence import pad_sequences\n",
    "from keras.models import Sequential\n",
    "from keras.layers import Dense, Bidirectional, LSTM, Dropout, BatchNormalization,SpatialDropout1D\n",
    "from keras.layers.embeddings import Embedding\n",
    "from keras.initializers import Constant\n",
    "from tensorflow.keras.optimizers import SGD, Adam\n",
    "from tensorflow.keras import optimizers, layers\n",
    "from tensorflow.keras.callbacks import EarlyStopping, ModelCheckpoint\n",
    "from sklearn.metrics import confusion_matrix\n",
    "from sklearn.metrics import classification_report"
   ]
  },
  {
   "cell_type": "code",
   "execution_count": 30,
   "id": "25765169",
   "metadata": {
    "execution": {
     "iopub.execute_input": "2022-05-23T18:23:14.852745Z",
     "iopub.status.busy": "2022-05-23T18:23:14.852280Z",
     "iopub.status.idle": "2022-05-23T18:23:14.897732Z",
     "shell.execute_reply": "2022-05-23T18:23:14.896351Z"
    },
    "papermill": {
     "duration": 0.135313,
     "end_time": "2022-05-23T18:23:14.900166",
     "exception": false,
     "start_time": "2022-05-23T18:23:14.764853",
     "status": "completed"
    },
    "tags": []
   },
   "outputs": [
    {
     "name": "stdout",
     "output_type": "stream",
     "text": [
      "[   0    0    0    0    0    0    0    0    0    0    0    0    0    0\n",
      "    0    0    0    0    0    0    0    0    0    0    0    0    0    0\n",
      "    0    0    0    0    0    0    0    0    0    0    0    0    0    0\n",
      "    0    0    0    0    0    0    0    0    0    0    0    0    0    0\n",
      "    0    0    0    0    0    0    0    0    0    0    0    0    0    0\n",
      "    0    0    0    0    0    0    0    0    0    0    0    0    0    0\n",
      "    0    0    0    0    0    0    0    0  594 4160  737  191   72 1455\n",
      " 4161   30]\n"
     ]
    }
   ],
   "source": [
    "X = sequences\n",
    "X = pad_sequences(X, maxlen=max_sequence_length)\n",
    "print(X[0])"
   ]
  },
  {
   "cell_type": "code",
   "execution_count": 31,
   "id": "63b8c38b",
   "metadata": {
    "execution": {
     "iopub.execute_input": "2022-05-23T18:23:15.078498Z",
     "iopub.status.busy": "2022-05-23T18:23:15.077912Z",
     "iopub.status.idle": "2022-05-23T18:23:15.083893Z",
     "shell.execute_reply": "2022-05-23T18:23:15.083033Z"
    },
    "papermill": {
     "duration": 0.099384,
     "end_time": "2022-05-23T18:23:15.085937",
     "exception": false,
     "start_time": "2022-05-23T18:23:14.986553",
     "status": "completed"
    },
    "tags": []
   },
   "outputs": [
    {
     "data": {
      "text/plain": [
       "['our deeds reason earthquake may allah forgive us']"
      ]
     },
     "execution_count": 31,
     "metadata": {},
     "output_type": "execute_result"
    }
   ],
   "source": [
    "tokenizer_obj.sequences_to_texts([[594, 4160, 737, 191, 72, 1455, 4161, 30]])"
   ]
  },
  {
   "cell_type": "code",
   "execution_count": 32,
   "id": "05eaf5a3",
   "metadata": {
    "execution": {
     "iopub.execute_input": "2022-05-23T18:23:15.256234Z",
     "iopub.status.busy": "2022-05-23T18:23:15.255687Z",
     "iopub.status.idle": "2022-05-23T18:23:15.264808Z",
     "shell.execute_reply": "2022-05-23T18:23:15.264169Z"
    },
    "papermill": {
     "duration": 0.097442,
     "end_time": "2022-05-23T18:23:15.267050",
     "exception": false,
     "start_time": "2022-05-23T18:23:15.169608",
     "status": "completed"
    },
    "tags": []
   },
   "outputs": [],
   "source": [
    "y = df_train['target']\n",
    "X_train, X_test, y_train, y_test = train_test_split(X, y, test_size=0.2, random_state=41)"
   ]
  },
  {
   "cell_type": "code",
   "execution_count": 33,
   "id": "6fe0f6d4",
   "metadata": {
    "execution": {
     "iopub.execute_input": "2022-05-23T18:23:15.438218Z",
     "iopub.status.busy": "2022-05-23T18:23:15.437679Z",
     "iopub.status.idle": "2022-05-23T18:23:15.440972Z",
     "shell.execute_reply": "2022-05-23T18:23:15.440414Z"
    },
    "papermill": {
     "duration": 0.092475,
     "end_time": "2022-05-23T18:23:15.442899",
     "exception": false,
     "start_time": "2022-05-23T18:23:15.350424",
     "status": "completed"
    },
    "tags": []
   },
   "outputs": [],
   "source": [
    "embed_dim = embedding_dim\n",
    "lstm_out = 64"
   ]
  },
  {
   "cell_type": "markdown",
   "id": "61050f77",
   "metadata": {
    "papermill": {
     "duration": 0.083237,
     "end_time": "2022-05-23T18:23:15.610195",
     "exception": false,
     "start_time": "2022-05-23T18:23:15.526958",
     "status": "completed"
    },
    "tags": []
   },
   "source": [
    "## Hybrid model"
   ]
  },
  {
   "cell_type": "code",
   "execution_count": 34,
   "id": "44418337",
   "metadata": {
    "execution": {
     "iopub.execute_input": "2022-05-23T18:23:15.778846Z",
     "iopub.status.busy": "2022-05-23T18:23:15.778302Z",
     "iopub.status.idle": "2022-05-23T18:23:15.786802Z",
     "shell.execute_reply": "2022-05-23T18:23:15.785997Z"
    },
    "papermill": {
     "duration": 0.094965,
     "end_time": "2022-05-23T18:23:15.788676",
     "exception": false,
     "start_time": "2022-05-23T18:23:15.693711",
     "status": "completed"
    },
    "tags": []
   },
   "outputs": [],
   "source": [
    "def build_hybrid_model():\n",
    "    model = Sequential()\n",
    "    \n",
    "    model.add(layers.InputLayer(input_shape=(max_sequence_length,), name=\"input\"))\n",
    "    model.add(layers.Embedding(input_dim=embedding_dim,\n",
    "                               output_dim=150,\n",
    "                               input_length=max_sequence_length))\n",
    "    \n",
    "    model.add(layers.Conv1D(filters=32, kernel_size=3, \n",
    "                            padding='same', \n",
    "                            activation='relu', \n",
    "                            kernel_regularizer=l2(0.01), \n",
    "                            bias_regularizer=l2(0.01)))\n",
    "    \n",
    "    model.add(layers.MaxPooling1D(pool_size=2))\n",
    "    model.add(layers.LSTM(64, recurrent_dropout=0.5, \n",
    "                          kernel_regularizer=l2(0.01), \n",
    "                          recurrent_regularizer=l2(0.01), \n",
    "                          bias_regularizer=l2(0.01)))\n",
    "    \n",
    "    model.add(layers.Dense(1, activation='sigmoid'))\n",
    "\n",
    "    optimizer = tf.keras.optimizers.Adam(learning_rate=0.001)\n",
    "    model.compile(optimizer='adam',\n",
    "                  loss='binary_crossentropy',\n",
    "                  metrics=[\"accuracy\"])\n",
    "    return model"
   ]
  },
  {
   "cell_type": "code",
   "execution_count": 35,
   "id": "f97a8966",
   "metadata": {
    "execution": {
     "iopub.execute_input": "2022-05-23T18:23:15.958264Z",
     "iopub.status.busy": "2022-05-23T18:23:15.957746Z",
     "iopub.status.idle": "2022-05-23T18:23:16.700679Z",
     "shell.execute_reply": "2022-05-23T18:23:16.699774Z"
    },
    "papermill": {
     "duration": 0.830397,
     "end_time": "2022-05-23T18:23:16.702843",
     "exception": false,
     "start_time": "2022-05-23T18:23:15.872446",
     "status": "completed"
    },
    "tags": []
   },
   "outputs": [
    {
     "name": "stderr",
     "output_type": "stream",
     "text": [
      "2022-05-23 18:23:15.996638: I tensorflow/core/common_runtime/process_util.cc:146] Creating new thread pool with default inter op setting: 2. Tune using inter_op_parallelism_threads for best performance.\n"
     ]
    },
    {
     "name": "stdout",
     "output_type": "stream",
     "text": [
      "Model: \"sequential\"\n",
      "_________________________________________________________________\n",
      "Layer (type)                 Output Shape              Param #   \n",
      "=================================================================\n",
      "embedding (Embedding)        (None, 100, 100)          1501400   \n",
      "_________________________________________________________________\n",
      "dropout (Dropout)            (None, 100, 100)          0         \n",
      "_________________________________________________________________\n",
      "conv1d (Conv1D)              (None, 100, 32)           9632      \n",
      "_________________________________________________________________\n",
      "max_pooling1d (MaxPooling1D) (None, 50, 32)            0         \n",
      "_________________________________________________________________\n",
      "bidirectional (Bidirectional (None, 128)               49664     \n",
      "_________________________________________________________________\n",
      "dense (Dense)                (None, 1)                 129       \n",
      "=================================================================\n",
      "Total params: 1,560,825\n",
      "Trainable params: 1,560,825\n",
      "Non-trainable params: 0\n",
      "_________________________________________________________________\n",
      "None\n"
     ]
    }
   ],
   "source": [
    "model = Sequential()\n",
    "\n",
    "model.add(Embedding(num_words, embed_dim,input_length = X.shape[1]))\n",
    "model.add(Dropout(0.2))\n",
    "model.add(layers.Conv1D(filters=32, kernel_size=3, padding='same', activation='relu'))\n",
    "model.add(layers.MaxPooling1D(pool_size=2))\n",
    "model.add(Bidirectional(LSTM(lstm_out, dropout=0.2, recurrent_dropout=0.4)))\n",
    "model.add(Dense(1,activation='sigmoid'))\n",
    "adam = optimizers.Adam(learning_rate=0.003)\n",
    "\n",
    "es = EarlyStopping(monitor='val_loss', mode='min', verbose=1, patience=4)\n",
    "mc = ModelCheckpoint('best_model.hs', monitor='val_acc', mode='max', verbose=1, save_best_only=True)\n",
    "\n",
    "model.compile(loss = 'binary_crossentropy', optimizer=adam ,metrics = ['accuracy'])\n",
    "\n",
    "print(model.summary())"
   ]
  },
  {
   "cell_type": "code",
   "execution_count": 36,
   "id": "67ffb9e7",
   "metadata": {
    "execution": {
     "iopub.execute_input": "2022-05-23T18:23:16.878500Z",
     "iopub.status.busy": "2022-05-23T18:23:16.877911Z",
     "iopub.status.idle": "2022-05-23T18:29:04.214817Z",
     "shell.execute_reply": "2022-05-23T18:29:04.213336Z"
    },
    "papermill": {
     "duration": 347.425977,
     "end_time": "2022-05-23T18:29:04.217173",
     "exception": false,
     "start_time": "2022-05-23T18:23:16.791196",
     "status": "completed"
    },
    "tags": []
   },
   "outputs": [
    {
     "name": "stderr",
     "output_type": "stream",
     "text": [
      "2022-05-23 18:23:16.944795: I tensorflow/compiler/mlir/mlir_graph_optimization_pass.cc:185] None of the MLIR Optimization Passes are enabled (registered 2)\n"
     ]
    },
    {
     "name": "stdout",
     "output_type": "stream",
     "text": [
      "Epoch 1/10\n",
      "191/191 [==============================] - 75s 353ms/step - loss: 0.5269 - accuracy: 0.7337 - val_loss: 0.4372 - val_accuracy: 0.8076\n",
      "Epoch 2/10\n",
      "191/191 [==============================] - 69s 361ms/step - loss: 0.2796 - accuracy: 0.8915 - val_loss: 0.4972 - val_accuracy: 0.7892\n",
      "Epoch 3/10\n",
      "191/191 [==============================] - 67s 352ms/step - loss: 0.1423 - accuracy: 0.9479 - val_loss: 0.5939 - val_accuracy: 0.7715\n",
      "Epoch 4/10\n",
      "191/191 [==============================] - 68s 357ms/step - loss: 0.0830 - accuracy: 0.9690 - val_loss: 0.7943 - val_accuracy: 0.7649\n",
      "Epoch 5/10\n",
      "191/191 [==============================] - 68s 356ms/step - loss: 0.0520 - accuracy: 0.9757 - val_loss: 0.9112 - val_accuracy: 0.7623\n",
      "Epoch 00005: early stopping\n"
     ]
    }
   ],
   "source": [
    "history = model.fit(X_train, y_train, epochs=10, callbacks=[es, mc], batch_size=32, validation_data=(X_test, y_test))"
   ]
  },
  {
   "cell_type": "code",
   "execution_count": 37,
   "id": "93f80693",
   "metadata": {
    "execution": {
     "iopub.execute_input": "2022-05-23T18:29:05.123934Z",
     "iopub.status.busy": "2022-05-23T18:29:05.123117Z",
     "iopub.status.idle": "2022-05-23T18:29:05.336413Z",
     "shell.execute_reply": "2022-05-23T18:29:05.335505Z"
    },
    "papermill": {
     "duration": 0.669185,
     "end_time": "2022-05-23T18:29:05.338722",
     "exception": false,
     "start_time": "2022-05-23T18:29:04.669537",
     "status": "completed"
    },
    "tags": []
   },
   "outputs": [
    {
     "data": {
      "image/png": "[encoded data removed]",
      "text/plain": [
       "<Figure size 576x288 with 1 Axes>"
      ]
     },
     "metadata": {
      "needs_background": "light"
     },
     "output_type": "display_data"
    }
   ],
   "source": [
    "plt.figure(figsize=(8,4))\n",
    "plt.plot(history.history['loss'], label='Train Loss')\n",
    "plt.plot(history.history['val_loss'], label='Test Loss')\n",
    "plt.title('model loss')\n",
    "plt.ylabel('loss')\n",
    "plt.xlabel('epochs')\n",
    "plt.legend(loc='upper right')\n",
    "plt.show()"
   ]
  },
  {
   "cell_type": "code",
   "execution_count": 38,
   "id": "c17869b4",
   "metadata": {
    "execution": {
     "iopub.execute_input": "2022-05-23T18:29:06.230662Z",
     "iopub.status.busy": "2022-05-23T18:29:06.230112Z",
     "iopub.status.idle": "2022-05-23T18:29:10.120705Z",
     "shell.execute_reply": "2022-05-23T18:29:10.119665Z"
    },
    "papermill": {
     "duration": 4.341437,
     "end_time": "2022-05-23T18:29:10.123275",
     "exception": false,
     "start_time": "2022-05-23T18:29:05.781838",
     "status": "completed"
    },
    "tags": []
   },
   "outputs": [],
   "source": [
    "y_predict = model.predict(X_test).round()"
   ]
  },
  {
   "cell_type": "code",
   "execution_count": 39,
   "id": "b03d202b",
   "metadata": {
    "execution": {
     "iopub.execute_input": "2022-05-23T18:29:11.051813Z",
     "iopub.status.busy": "2022-05-23T18:29:11.051502Z",
     "iopub.status.idle": "2022-05-23T18:29:11.057662Z",
     "shell.execute_reply": "2022-05-23T18:29:11.056897Z"
    },
    "papermill": {
     "duration": 0.489545,
     "end_time": "2022-05-23T18:29:11.059522",
     "exception": false,
     "start_time": "2022-05-23T18:29:10.569977",
     "status": "completed"
    },
    "tags": []
   },
   "outputs": [
    {
     "data": {
      "text/plain": [
       "array([[0.],\n",
       "       [1.],\n",
       "       [0.],\n",
       "       ...,\n",
       "       [1.],\n",
       "       [0.],\n",
       "       [0.]], dtype=float32)"
      ]
     },
     "execution_count": 39,
     "metadata": {},
     "output_type": "execute_result"
    }
   ],
   "source": [
    "y_predict"
   ]
  },
  {
   "cell_type": "markdown",
   "id": "19fb703a",
   "metadata": {
    "papermill": {
     "duration": 0.451559,
     "end_time": "2022-05-23T18:29:11.951939",
     "exception": false,
     "start_time": "2022-05-23T18:29:11.500380",
     "status": "completed"
    },
    "tags": []
   },
   "source": [
    "# Evaluation"
   ]
  },
  {
   "cell_type": "code",
   "execution_count": 40,
   "id": "c9edd8da",
   "metadata": {
    "execution": {
     "iopub.execute_input": "2022-05-23T18:29:12.850985Z",
     "iopub.status.busy": "2022-05-23T18:29:12.850458Z",
     "iopub.status.idle": "2022-05-23T18:29:26.783964Z",
     "shell.execute_reply": "2022-05-23T18:29:26.782646Z"
    },
    "papermill": {
     "duration": 14.39451,
     "end_time": "2022-05-23T18:29:26.786472",
     "exception": false,
     "start_time": "2022-05-23T18:29:12.391962",
     "status": "completed"
    },
    "tags": []
   },
   "outputs": [
    {
     "data": {
      "text/plain": [
       "98"
      ]
     },
     "execution_count": 40,
     "metadata": {},
     "output_type": "execute_result"
    }
   ],
   "source": [
    "from sklearn import metrics\n",
    "\n",
    "train_accuracy = round(metrics.accuracy_score(y_train, model.predict(X_train).round()) * 100)\n",
    "train_accuracy"
   ]
  },
  {
   "cell_type": "code",
   "execution_count": 41,
   "id": "8cd510a0",
   "metadata": {
    "execution": {
     "iopub.execute_input": "2022-05-23T18:29:27.687024Z",
     "iopub.status.busy": "2022-05-23T18:29:27.686227Z",
     "iopub.status.idle": "2022-05-23T18:29:27.697571Z",
     "shell.execute_reply": "2022-05-23T18:29:27.696778Z"
    },
    "papermill": {
     "duration": 0.463451,
     "end_time": "2022-05-23T18:29:27.700099",
     "exception": false,
     "start_time": "2022-05-23T18:29:27.236648",
     "status": "completed"
    },
    "tags": []
   },
   "outputs": [
    {
     "name": "stdout",
     "output_type": "stream",
     "text": [
      "Accuracy :  0.7623112278397899\n",
      "Recall : 0.7286585365853658\n",
      "Precision :  0.7220543806646526\n"
     ]
    }
   ],
   "source": [
    "print('Accuracy : ', (metrics.accuracy_score(y_test, y_predict)))\n",
    "print('Recall :', (metrics.recall_score(y_test, y_predict)))\n",
    "print('Precision : ', (metrics.precision_score(y_test, y_predict)))"
   ]
  },
  {
   "cell_type": "code",
   "execution_count": 42,
   "id": "0a6efef9",
   "metadata": {
    "execution": {
     "iopub.execute_input": "2022-05-23T18:29:28.601418Z",
     "iopub.status.busy": "2022-05-23T18:29:28.600833Z",
     "iopub.status.idle": "2022-05-23T18:29:28.614190Z",
     "shell.execute_reply": "2022-05-23T18:29:28.613157Z"
    },
    "papermill": {
     "duration": 0.465769,
     "end_time": "2022-05-23T18:29:28.616567",
     "exception": false,
     "start_time": "2022-05-23T18:29:28.150798",
     "status": "completed"
    },
    "tags": []
   },
   "outputs": [
    {
     "name": "stdout",
     "output_type": "stream",
     "text": [
      "              precision    recall  f1-score   support\n",
      "\n",
      "           0       0.79      0.79      0.79       867\n",
      "           1       0.72      0.73      0.73       656\n",
      "\n",
      "    accuracy                           0.76      1523\n",
      "   macro avg       0.76      0.76      0.76      1523\n",
      "weighted avg       0.76      0.76      0.76      1523\n",
      "\n"
     ]
    }
   ],
   "source": [
    "print(classification_report(y_test, y_predict))"
   ]
  },
  {
   "cell_type": "code",
   "execution_count": 43,
   "id": "47941580",
   "metadata": {
    "execution": {
     "iopub.execute_input": "2022-05-23T18:29:29.507861Z",
     "iopub.status.busy": "2022-05-23T18:29:29.507271Z",
     "iopub.status.idle": "2022-05-23T18:29:29.728191Z",
     "shell.execute_reply": "2022-05-23T18:29:29.727176Z"
    },
    "papermill": {
     "duration": 0.668777,
     "end_time": "2022-05-23T18:29:29.730750",
     "exception": false,
     "start_time": "2022-05-23T18:29:29.061973",
     "status": "completed"
    },
    "tags": []
   },
   "outputs": [
    {
     "data": {
      "image/png": "[encoded data removed]",
      "text/plain": [
       "<Figure size 504x360 with 2 Axes>"
      ]
     },
     "metadata": {
      "needs_background": "light"
     },
     "output_type": "display_data"
    }
   ],
   "source": [
    "conm = confusion_matrix(y_test, y_predict)\n",
    "plt.figure(figsize=(7, 5))\n",
    "sns.heatmap(conm, annot=True, fmt='d')\n",
    "plt.show()"
   ]
  },
  {
   "cell_type": "markdown",
   "id": "9492d2c2",
   "metadata": {
    "papermill": {
     "duration": 0.448837,
     "end_time": "2022-05-23T18:29:30.633097",
     "exception": false,
     "start_time": "2022-05-23T18:29:30.184260",
     "status": "completed"
    },
    "tags": []
   },
   "source": [
    "# Test Set and get Submission"
   ]
  },
  {
   "cell_type": "code",
   "execution_count": 44,
   "id": "44b65ef9",
   "metadata": {
    "execution": {
     "iopub.execute_input": "2022-05-23T18:29:31.531877Z",
     "iopub.status.busy": "2022-05-23T18:29:31.531305Z",
     "iopub.status.idle": "2022-05-23T18:29:31.624641Z",
     "shell.execute_reply": "2022-05-23T18:29:31.624031Z"
    },
    "papermill": {
     "duration": 0.545963,
     "end_time": "2022-05-23T18:29:31.626861",
     "exception": false,
     "start_time": "2022-05-23T18:29:31.080898",
     "status": "completed"
    },
    "tags": []
   },
   "outputs": [],
   "source": [
    "df_test['clean_text'] = df_test['text'].apply(lambda x: remove_url(x))\n",
    "df_test['clean_text'] = df_test['clean_text'].apply(lambda x: remove_emoji(x))\n",
    "df_test['clean_text'] = df_test['clean_text'].apply(lambda x: remove_html(x))\n",
    "df_test['clean_text'] = df_test['clean_text'].apply(lambda x: remove_punctuation(x))"
   ]
  },
  {
   "cell_type": "code",
   "execution_count": 45,
   "id": "98ea610f",
   "metadata": {
    "execution": {
     "iopub.execute_input": "2022-05-23T18:29:32.522151Z",
     "iopub.status.busy": "2022-05-23T18:29:32.521603Z",
     "iopub.status.idle": "2022-05-23T18:29:32.528647Z",
     "shell.execute_reply": "2022-05-23T18:29:32.528001Z"
    },
    "papermill": {
     "duration": 0.453627,
     "end_time": "2022-05-23T18:29:32.530928",
     "exception": false,
     "start_time": "2022-05-23T18:29:32.077301",
     "status": "completed"
    },
    "tags": []
   },
   "outputs": [
    {
     "data": {
      "text/plain": [
       "0                   Just happened a terrible car crash\n",
       "1    Heard about earthquake is different cities sta...\n",
       "2    there is a forest fire at spot pond geese are ...\n",
       "3                Apocalypse lighting Spokane wildfires\n",
       "4        Typhoon Soudelor kills 28 in China and Taiwan\n",
       "Name: clean_text, dtype: object"
      ]
     },
     "execution_count": 45,
     "metadata": {},
     "output_type": "execute_result"
    }
   ],
   "source": [
    "df_test['clean_text'].head()"
   ]
  },
  {
   "cell_type": "code",
   "execution_count": 46,
   "id": "3d867eeb",
   "metadata": {
    "execution": {
     "iopub.execute_input": "2022-05-23T18:29:33.490205Z",
     "iopub.status.busy": "2022-05-23T18:29:33.489645Z",
     "iopub.status.idle": "2022-05-23T18:29:33.495737Z",
     "shell.execute_reply": "2022-05-23T18:29:33.494870Z"
    },
    "papermill": {
     "duration": 0.472539,
     "end_time": "2022-05-23T18:29:33.497855",
     "exception": false,
     "start_time": "2022-05-23T18:29:33.025316",
     "status": "completed"
    },
    "tags": []
   },
   "outputs": [],
   "source": [
    "def create_corpus(test):\n",
    "    data = []\n",
    "    for tweet in tqdm(df_test['clean_text']):\n",
    "        words = [word.lower() for word in word_tokenize(tweet) \n",
    "                 if((word.isalpha()==1) & \n",
    "                    (word not in stop))]\n",
    "        \n",
    "        data.append(words)\n",
    "    return data"
   ]
  },
  {
   "cell_type": "code",
   "execution_count": 47,
   "id": "02aefa09",
   "metadata": {
    "execution": {
     "iopub.execute_input": "2022-05-23T18:29:34.450431Z",
     "iopub.status.busy": "2022-05-23T18:29:34.449498Z",
     "iopub.status.idle": "2022-05-23T18:29:35.222409Z",
     "shell.execute_reply": "2022-05-23T18:29:35.221307Z"
    },
    "papermill": {
     "duration": 1.254721,
     "end_time": "2022-05-23T18:29:35.225300",
     "exception": false,
     "start_time": "2022-05-23T18:29:33.970579",
     "status": "completed"
    },
    "tags": []
   },
   "outputs": [
    {
     "name": "stderr",
     "output_type": "stream",
     "text": [
      "100%|██████████| 3263/3263 [00:00<00:00, 4268.89it/s]\n"
     ]
    }
   ],
   "source": [
    "data_test = create_corpus(df_test)"
   ]
  },
  {
   "cell_type": "code",
   "execution_count": 48,
   "id": "30ae5aa3",
   "metadata": {
    "execution": {
     "iopub.execute_input": "2022-05-23T18:29:36.179136Z",
     "iopub.status.busy": "2022-05-23T18:29:36.178633Z",
     "iopub.status.idle": "2022-05-23T18:29:36.267235Z",
     "shell.execute_reply": "2022-05-23T18:29:36.266299Z"
    },
    "papermill": {
     "duration": 0.564651,
     "end_time": "2022-05-23T18:29:36.269661",
     "exception": false,
     "start_time": "2022-05-23T18:29:35.705010",
     "status": "completed"
    },
    "tags": []
   },
   "outputs": [],
   "source": [
    "tokenizer_obj = Tokenizer()\n",
    "tokenizer_obj.fit_on_texts(data_test)\n",
    "sequences = tokenizer_obj.texts_to_sequences(data_test)\n",
    "word_index = tokenizer_obj.word_index\n",
    "\n",
    "tweet_pad = pad_sequences(sequences, maxlen=max_sequence_length,truncating='post', padding='post')\n",
    "word_index = tokenizer_obj.word_index"
   ]
  },
  {
   "cell_type": "code",
   "execution_count": 49,
   "id": "c6bd7e8a",
   "metadata": {
    "execution": {
     "iopub.execute_input": "2022-05-23T18:29:37.170282Z",
     "iopub.status.busy": "2022-05-23T18:29:37.169471Z",
     "iopub.status.idle": "2022-05-23T18:29:37.176009Z",
     "shell.execute_reply": "2022-05-23T18:29:37.175038Z"
    },
    "papermill": {
     "duration": 0.460362,
     "end_time": "2022-05-23T18:29:37.178055",
     "exception": false,
     "start_time": "2022-05-23T18:29:36.717693",
     "status": "completed"
    },
    "tags": []
   },
   "outputs": [
    {
     "name": "stdout",
     "output_type": "stream",
     "text": [
      "Found 9735 unique tokens.\n",
      "(3263, 100)\n",
      "[[ 114  522  885 ...    0    0    0]\n",
      " [ 194  195 1751 ...    0    0    0]\n",
      " [  60    6  794 ...    0    0    0]\n",
      " ...\n",
      " [ 604  224  625 ...    0    0    0]\n",
      " [3443  591  378 ...    0    0    0]\n",
      " [3124 3131 1678 ...    0    0    0]]\n"
     ]
    }
   ],
   "source": [
    "print('Found %s unique tokens.' % len(word_index))\n",
    "print(tweet_pad.shape)\n",
    "print(tweet_pad)"
   ]
  },
  {
   "cell_type": "code",
   "execution_count": 50,
   "id": "5e04ab9b",
   "metadata": {
    "execution": {
     "iopub.execute_input": "2022-05-23T18:29:38.090092Z",
     "iopub.status.busy": "2022-05-23T18:29:38.089438Z",
     "iopub.status.idle": "2022-05-23T18:29:38.094646Z",
     "shell.execute_reply": "2022-05-23T18:29:38.093582Z"
    },
    "papermill": {
     "duration": 0.462226,
     "end_time": "2022-05-23T18:29:38.096868",
     "exception": false,
     "start_time": "2022-05-23T18:29:37.634642",
     "status": "completed"
    },
    "tags": []
   },
   "outputs": [
    {
     "name": "stdout",
     "output_type": "stream",
     "text": [
      "9736\n"
     ]
    }
   ],
   "source": [
    "num_words = len(word_index) + 1\n",
    "print(num_words)"
   ]
  },
  {
   "cell_type": "code",
   "execution_count": 51,
   "id": "1fb16b87",
   "metadata": {
    "execution": {
     "iopub.execute_input": "2022-05-23T18:29:39.006746Z",
     "iopub.status.busy": "2022-05-23T18:29:39.006178Z",
     "iopub.status.idle": "2022-05-23T18:29:39.027281Z",
     "shell.execute_reply": "2022-05-23T18:29:39.026097Z"
    },
    "papermill": {
     "duration": 0.478937,
     "end_time": "2022-05-23T18:29:39.029323",
     "exception": false,
     "start_time": "2022-05-23T18:29:38.550386",
     "status": "completed"
    },
    "tags": []
   },
   "outputs": [
    {
     "name": "stdout",
     "output_type": "stream",
     "text": [
      "[  0   0   0   0   0   0   0   0   0   0   0   0   0   0   0   0   0   0\n",
      "   0   0   0   0   0   0   0   0   0   0   0   0   0   0   0   0   0   0\n",
      "   0   0   0   0   0   0   0   0   0   0   0   0   0   0   0   0   0   0\n",
      "   0   0   0   0   0   0   0   0   0   0   0   0   0   0   0   0   0   0\n",
      "   0   0   0   0   0   0   0   0   0   0   0   0   0   0   0   0   0   0\n",
      "   0   0   0   0   0 114 522 885  69  36]\n"
     ]
    }
   ],
   "source": [
    "X = sequences\n",
    "X = pad_sequences(X, maxlen=max_sequence_length)\n",
    "print(X[0])"
   ]
  },
  {
   "cell_type": "code",
   "execution_count": 52,
   "id": "f87c2ade",
   "metadata": {
    "execution": {
     "iopub.execute_input": "2022-05-23T18:29:39.939985Z",
     "iopub.status.busy": "2022-05-23T18:29:39.939557Z",
     "iopub.status.idle": "2022-05-23T18:29:39.944928Z",
     "shell.execute_reply": "2022-05-23T18:29:39.944416Z"
    },
    "papermill": {
     "duration": 0.460927,
     "end_time": "2022-05-23T18:29:39.946937",
     "exception": false,
     "start_time": "2022-05-23T18:29:39.486010",
     "status": "completed"
    },
    "tags": []
   },
   "outputs": [
    {
     "data": {
      "text/plain": [
       "['just happened terrible car crash']"
      ]
     },
     "execution_count": 52,
     "metadata": {},
     "output_type": "execute_result"
    }
   ],
   "source": [
    "tokenizer_obj.sequences_to_texts([[114, 522, 885, 69, 36]])"
   ]
  },
  {
   "cell_type": "code",
   "execution_count": 53,
   "id": "260f5029",
   "metadata": {
    "execution": {
     "iopub.execute_input": "2022-05-23T18:29:40.862528Z",
     "iopub.status.busy": "2022-05-23T18:29:40.862145Z",
     "iopub.status.idle": "2022-05-23T18:29:41.134135Z",
     "shell.execute_reply": "2022-05-23T18:29:41.133257Z"
    },
    "papermill": {
     "duration": 0.738576,
     "end_time": "2022-05-23T18:29:41.136872",
     "exception": false,
     "start_time": "2022-05-23T18:29:40.398296",
     "status": "completed"
    },
    "tags": []
   },
   "outputs": [],
   "source": [
    "model = Sequential()\n",
    "\n",
    "model.add(Embedding(num_words, embed_dim, input_length = X.shape[1]))\n",
    "model.add(Dropout(0.2))\n",
    "model.add(layers.Conv1D(filters=32, kernel_size=3, padding='same', activation='relu'))\n",
    "model.add(layers.MaxPooling1D(pool_size=2))\n",
    "model.add(Bidirectional(LSTM(lstm_out, dropout=0.2, recurrent_dropout=0.4)))\n",
    "model.add(Dense(1, activation='sigmoid'))\n",
    "adam = optimizers.Adam(learning_rate=0.003)"
   ]
  },
  {
   "cell_type": "code",
   "execution_count": 54,
   "id": "fcb54d16",
   "metadata": {
    "execution": {
     "iopub.execute_input": "2022-05-23T18:29:42.055796Z",
     "iopub.status.busy": "2022-05-23T18:29:42.055371Z",
     "iopub.status.idle": "2022-05-23T18:29:42.070821Z",
     "shell.execute_reply": "2022-05-23T18:29:42.070135Z"
    },
    "papermill": {
     "duration": 0.473323,
     "end_time": "2022-05-23T18:29:42.072890",
     "exception": false,
     "start_time": "2022-05-23T18:29:41.599567",
     "status": "completed"
    },
    "tags": []
   },
   "outputs": [
    {
     "name": "stdout",
     "output_type": "stream",
     "text": [
      "Model: \"sequential_1\"\n",
      "_________________________________________________________________\n",
      "Layer (type)                 Output Shape              Param #   \n",
      "=================================================================\n",
      "embedding_1 (Embedding)      (None, 100, 100)          973600    \n",
      "_________________________________________________________________\n",
      "dropout_1 (Dropout)          (None, 100, 100)          0         \n",
      "_________________________________________________________________\n",
      "conv1d_1 (Conv1D)            (None, 100, 32)           9632      \n",
      "_________________________________________________________________\n",
      "max_pooling1d_1 (MaxPooling1 (None, 50, 32)            0         \n",
      "_________________________________________________________________\n",
      "bidirectional_1 (Bidirection (None, 128)               49664     \n",
      "_________________________________________________________________\n",
      "dense_1 (Dense)              (None, 1)                 129       \n",
      "=================================================================\n",
      "Total params: 1,033,025\n",
      "Trainable params: 1,033,025\n",
      "Non-trainable params: 0\n",
      "_________________________________________________________________\n",
      "None\n"
     ]
    }
   ],
   "source": [
    "model.compile(loss = 'binary_crossentropy', optimizer=adam ,metrics = ['accuracy'])\n",
    "print(model.summary())"
   ]
  },
  {
   "cell_type": "code",
   "execution_count": 55,
   "id": "cf0ec5c3",
   "metadata": {
    "execution": {
     "iopub.execute_input": "2022-05-23T18:29:42.990903Z",
     "iopub.status.busy": "2022-05-23T18:29:42.990239Z",
     "iopub.status.idle": "2022-05-23T18:31:46.173161Z",
     "shell.execute_reply": "2022-05-23T18:31:46.171913Z"
    },
    "papermill": {
     "duration": 123.648392,
     "end_time": "2022-05-23T18:31:46.176293",
     "exception": false,
     "start_time": "2022-05-23T18:29:42.527901",
     "status": "completed"
    },
    "tags": []
   },
   "outputs": [
    {
     "name": "stdout",
     "output_type": "stream",
     "text": [
      "Epoch 1/10\n",
      "82/82 [==============================] - 38s 368ms/step - loss: 0.6638 - accuracy: 0.6123 - val_loss: 0.6929 - val_accuracy: 0.5528\n",
      "Epoch 2/10\n",
      "82/82 [==============================] - 28s 348ms/step - loss: 0.4298 - accuracy: 0.8111 - val_loss: 0.7308 - val_accuracy: 0.5881\n",
      "Epoch 3/10\n",
      "82/82 [==============================] - 28s 347ms/step - loss: 0.2052 - accuracy: 0.9310 - val_loss: 1.0536 - val_accuracy: 0.5681\n",
      "Epoch 4/10\n",
      "82/82 [==============================] - 28s 347ms/step - loss: 0.1261 - accuracy: 0.9575 - val_loss: 1.0654 - val_accuracy: 0.5881\n"
     ]
    }
   ],
   "source": [
    "from tensorflow import keras\n",
    "\n",
    "callbacks_es = keras.callbacks.EarlyStopping(monitor='val_loss', patience=3)\n",
    "\n",
    "history = model.fit(X,y, epochs = 10,validation_split = 0.2 ,callbacks=[callbacks_es], batch_size=32)"
   ]
  },
  {
   "cell_type": "code",
   "execution_count": 56,
   "id": "c61678b6",
   "metadata": {
    "execution": {
     "iopub.execute_input": "2022-05-23T18:31:47.344639Z",
     "iopub.status.busy": "2022-05-23T18:31:47.344096Z",
     "iopub.status.idle": "2022-05-23T18:31:47.549122Z",
     "shell.execute_reply": "2022-05-23T18:31:47.548474Z"
    },
    "papermill": {
     "duration": 0.798495,
     "end_time": "2022-05-23T18:31:47.551315",
     "exception": false,
     "start_time": "2022-05-23T18:31:46.752820",
     "status": "completed"
    },
    "tags": []
   },
   "outputs": [
    {
     "data": {
      "image/png": "[encoded data removed]",
      "text/plain": [
       "<Figure size 576x288 with 1 Axes>"
      ]
     },
     "metadata": {
      "needs_background": "light"
     },
     "output_type": "display_data"
    }
   ],
   "source": [
    "plt.figure(figsize=(8,4))\n",
    "plt.plot(history.history['loss'], label='Train Loss')\n",
    "plt.plot(history.history['val_loss'], label='Test Loss')\n",
    "plt.title('model loss')\n",
    "plt.ylabel('loss')\n",
    "plt.xlabel('epochs')\n",
    "plt.legend(loc='upper right')\n",
    "plt.show()"
   ]
  },
  {
   "cell_type": "code",
   "execution_count": 57,
   "id": "5f1a7c79",
   "metadata": {
    "execution": {
     "iopub.execute_input": "2022-05-23T18:31:48.751439Z",
     "iopub.status.busy": "2022-05-23T18:31:48.750941Z",
     "iopub.status.idle": "2022-05-23T18:31:56.744702Z",
     "shell.execute_reply": "2022-05-23T18:31:56.744025Z"
    },
    "papermill": {
     "duration": 8.596117,
     "end_time": "2022-05-23T18:31:56.746933",
     "exception": false,
     "start_time": "2022-05-23T18:31:48.150816",
     "status": "completed"
    },
    "tags": []
   },
   "outputs": [],
   "source": [
    "y_hat = model.predict(tweet_pad).round()\n",
    "submission = pd.read_csv(\"/kaggle/input/nlp-getting-started/sample_submission.csv\")\n",
    "submission['target'] = np.round(y_hat).astype('int')"
   ]
  },
  {
   "cell_type": "code",
   "execution_count": 58,
   "id": "41aa8711",
   "metadata": {
    "execution": {
     "iopub.execute_input": "2022-05-23T18:31:57.917132Z",
     "iopub.status.busy": "2022-05-23T18:31:57.916148Z",
     "iopub.status.idle": "2022-05-23T18:31:58.001846Z",
     "shell.execute_reply": "2022-05-23T18:31:58.001125Z"
    },
    "papermill": {
     "duration": 0.672218,
     "end_time": "2022-05-23T18:31:58.004209",
     "exception": false,
     "start_time": "2022-05-23T18:31:57.331991",
     "status": "completed"
    },
    "tags": []
   },
   "outputs": [
    {
     "data": {
      "text/html": [
       "<style type=\"text/css\">\n",
       "</style>\n",
       "<table id=\"T_679d8_\">\n",
       "  <thead>\n",
       "    <tr>\n",
       "      <th class=\"blank level0\" >&nbsp;</th>\n",
       "      <th class=\"col_heading level0 col0\" >id</th>\n",
       "      <th class=\"col_heading level0 col1\" >target</th>\n",
       "    </tr>\n",
       "  </thead>\n",
       "  <tbody>\n",
       "    <tr>\n",
       "      <th id=\"T_679d8_level0_row0\" class=\"row_heading level0 row0\" >count</th>\n",
       "      <td id=\"T_679d8_row0_col0\" class=\"data row0 col0\" >3263.000000</td>\n",
       "      <td id=\"T_679d8_row0_col1\" class=\"data row0 col1\" >3263.000000</td>\n",
       "    </tr>\n",
       "    <tr>\n",
       "      <th id=\"T_679d8_level0_row1\" class=\"row_heading level0 row1\" >mean</th>\n",
       "      <td id=\"T_679d8_row1_col0\" class=\"data row1 col0\" >5427.152927</td>\n",
       "      <td id=\"T_679d8_row1_col1\" class=\"data row1 col1\" >0.611094</td>\n",
       "    </tr>\n",
       "    <tr>\n",
       "      <th id=\"T_679d8_level0_row2\" class=\"row_heading level0 row2\" >std</th>\n",
       "      <td id=\"T_679d8_row2_col0\" class=\"data row2 col0\" >3146.427221</td>\n",
       "      <td id=\"T_679d8_row2_col1\" class=\"data row2 col1\" >0.487577</td>\n",
       "    </tr>\n",
       "    <tr>\n",
       "      <th id=\"T_679d8_level0_row3\" class=\"row_heading level0 row3\" >min</th>\n",
       "      <td id=\"T_679d8_row3_col0\" class=\"data row3 col0\" >0.000000</td>\n",
       "      <td id=\"T_679d8_row3_col1\" class=\"data row3 col1\" >0.000000</td>\n",
       "    </tr>\n",
       "    <tr>\n",
       "      <th id=\"T_679d8_level0_row4\" class=\"row_heading level0 row4\" >25%</th>\n",
       "      <td id=\"T_679d8_row4_col0\" class=\"data row4 col0\" >2683.000000</td>\n",
       "      <td id=\"T_679d8_row4_col1\" class=\"data row4 col1\" >0.000000</td>\n",
       "    </tr>\n",
       "    <tr>\n",
       "      <th id=\"T_679d8_level0_row5\" class=\"row_heading level0 row5\" >50%</th>\n",
       "      <td id=\"T_679d8_row5_col0\" class=\"data row5 col0\" >5500.000000</td>\n",
       "      <td id=\"T_679d8_row5_col1\" class=\"data row5 col1\" >1.000000</td>\n",
       "    </tr>\n",
       "    <tr>\n",
       "      <th id=\"T_679d8_level0_row6\" class=\"row_heading level0 row6\" >75%</th>\n",
       "      <td id=\"T_679d8_row6_col0\" class=\"data row6 col0\" >8176.000000</td>\n",
       "      <td id=\"T_679d8_row6_col1\" class=\"data row6 col1\" >1.000000</td>\n",
       "    </tr>\n",
       "    <tr>\n",
       "      <th id=\"T_679d8_level0_row7\" class=\"row_heading level0 row7\" >max</th>\n",
       "      <td id=\"T_679d8_row7_col0\" class=\"data row7 col0\" >10875.000000</td>\n",
       "      <td id=\"T_679d8_row7_col1\" class=\"data row7 col1\" >1.000000</td>\n",
       "    </tr>\n",
       "  </tbody>\n",
       "</table>\n"
      ],
      "text/plain": [
       "<pandas.io.formats.style.Styler at 0x7f798869cd50>"
      ]
     },
     "execution_count": 58,
     "metadata": {},
     "output_type": "execute_result"
    }
   ],
   "source": [
    "submission.describe().style"
   ]
  },
  {
   "cell_type": "code",
   "execution_count": 59,
   "id": "bc1f7001",
   "metadata": {
    "execution": {
     "iopub.execute_input": "2022-05-23T18:31:59.207521Z",
     "iopub.status.busy": "2022-05-23T18:31:59.207003Z",
     "iopub.status.idle": "2022-05-23T18:31:59.219156Z",
     "shell.execute_reply": "2022-05-23T18:31:59.218452Z"
    },
    "papermill": {
     "duration": 0.607927,
     "end_time": "2022-05-23T18:31:59.221598",
     "exception": false,
     "start_time": "2022-05-23T18:31:58.613671",
     "status": "completed"
    },
    "tags": []
   },
   "outputs": [],
   "source": [
    "submission.to_csv('submission.csv', index=False)"
   ]
  },
  {
   "cell_type": "code",
   "execution_count": null,
   "id": "467c8579",
   "metadata": {
    "papermill": {
     "duration": 0.590922,
     "end_time": "2022-05-23T18:32:00.404647",
     "exception": false,
     "start_time": "2022-05-23T18:31:59.813725",
     "status": "completed"
    },
    "tags": []
   },
   "outputs": [],
   "source": []
  }
 ],
 "metadata": {
  "kernelspec": {
   "display_name": "Python 3",
   "language": "python",
   "name": "python3"
  },
  "language_info": {
   "codemirror_mode": {
    "name": "ipython",
    "version": 3
   },
   "file_extension": ".py",
   "mimetype": "text/x-python",
   "name": "python",
   "nbconvert_exporter": "python",
   "pygments_lexer": "ipython3",
   "version": "3.7.12"
  },
  "papermill": {
   "default_parameters": {},
   "duration": 578.391378,
   "end_time": "2022-05-23T18:32:04.022550",
   "environment_variables": {},
   "exception": null,
   "input_path": "__notebook__.ipynb",
   "output_path": "__notebook__.ipynb",
   "parameters": {},
   "start_time": "2022-05-23T18:22:25.631172",
   "version": "2.3.4"
  }
 },
 "nbformat": 4,
 "nbformat_minor": 5
}
